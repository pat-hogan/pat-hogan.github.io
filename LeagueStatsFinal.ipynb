{
 "cells": [
  {
   "cell_type": "markdown",
   "id": "wanted-specification",
   "metadata": {},
   "source": [
    "# <center>A Deep Dive Into My League of Legends Stats</center>\n",
    "### <center> By Patrick Hogan </center>\n",
    "\n",
    "<br> <br>\n",
    "<img align=\"center\" src=\"http://ddragon.leagueoflegends.com/cdn/img/champion/splash/TahmKench_0.jpg\" alt=\"drawing\" width=\"500\"/> \n",
    "\n",
    "<br>\n",
    "<br>\n",
    "\n",
    "* * *\n",
    "\n",
    "Introduction\n",
    "------------------\n",
    "League of Legends is a 2009 free-to-play multiplayer PC video game from Riot Games, and in its nearly 12 year run has become one of, if not the most popular esport on the planet. Millions upons millions of people around the world play the game, and like some **real** sports (e.g. Baseball), there are tons of statistics and data to sift through. In this tutorial I will show you the entire data science pipeline using my own personal data from the 2021 Ranked season thus far. I have been playing League of Legends since late 2015, but have only recently become more involved in playing the game competitively. Furthermore, this method can be applied to any player, with only minor tweaks depending on the role and amount of games played. I wanted a personalized, in depth look at what makes me a player. I think I delivered on that, but please, take a look for yourself!\n",
    "\n",
    "The Game\n",
    "--------------\n",
    "League of Legends is referred to as a Multiplayer Online Battle Arena ([more about the MOBA genre](https://en.wikipedia.org/wiki/Multiplayer_online_battle_arena)). In League, or LoL, two teams of five are pitted against each other on the map [Summoner's Rift](https://static.wikia.nocookie.net/leagueoflegends/images/5/53/Summoner%27s_Rift_Update_Map.png/revision/latest/scale-to-width-down/1000?cb=20170223053555), which has remained largely the same over time. The main goal for both teams is to destroy the opposing team's base, represented by the Nexus. The first team to lose their Nexus (or forfeit) loses. There are countless other aspects of the game, such as vision score, neutral bosses, team composition, and itemization. It incorporates many elements from Real Time Strategy and Roleplaying games. To say it's a complex game would be an understatement. It also comes with an extremely steep learning curve, as many new players are typically much worse than regulars, and it takes time to understand the flow of the game, as well as mechanics. \n",
    "\n",
    "Why Was I Motivated to Work on This?\n",
    "-----------------------------------------------\n",
    "In League, the Summoner's Rift map consists of three lanes, which are long roads containing towers and various other terrain objects. For every role except Jungle, this is where the majority of a given match will be played. Everything not in one of the lanes is considered the Jungle. There are five roles: Top Lane, Jungle, Middle Lane, Bottom Lane, and Support (who also goes into the Bottom Lane). I have been playing Support as my main role for over 5 years (on and off), and I have mainly been playing the same character: Tahm Kench, pictured above. Read more about Tahm Kench [here](https://na.leagueoflegends.com/en-us/champions/tahm-kench/). Over time I have picked up various other characters, but to this day I am still mainly playing Tahm. This is important, as what characters I play will affect my interpretation of analyses. I chose to do my project on my personal statistics due to the fact that I am quite invested in this game, and I create my own data. In addition, I'm personally excited to see breakdowns of my statistics, specifically ones that most stat sites do not display. I will be answering and modeling various aspects of the game, such as team composition, enemy matchups, and kill participation in order to obtain a better understanding of how I play the game.\n",
    "\n",
    "\n",
    "### Imports\n",
    "In the Python below, we have to import some packages that contain essential functions. It's important that you don't reinvent the wheel when writing your code. There are plenty of off-the-shelf functions that these imports provide. Which ones you import may depend, but Pandas and Numpy are staples. Pandas is useful for representing data in a tabular format, known as DataFrames, and Numpy provides many mathematical functions. Pyplot allows us to plot data in meaningful and digestible ways. Read more about Pandas [here](https://pandas.pydata.org/), Numpy [here](https://numpy.org/) and matplotlib's pyplot [here](https://matplotlib.org/stable/api/_as_gen/matplotlib.pyplot.html#:~:text=pyplot%20is%20a%20state%2Dbased,pyplot%20as%20plt%20x%20%3D%20np.)."
   ]
  },
  {
   "cell_type": "code",
   "execution_count": 1,
   "id": "departmental-buyer",
   "metadata": {},
   "outputs": [],
   "source": [
    "import numpy as np\n",
    "import pandas as pd\n",
    "import matplotlib.pyplot as mpl\n",
    "import requests"
   ]
  },
  {
   "cell_type": "markdown",
   "id": "brutal-external",
   "metadata": {},
   "source": [
    "Data Scraping and Wrangling\n",
    "-----------------------------------------\n",
    "\n",
    "To begin, let's retrieve my data from Riot's databases. Unfortunately the API is limited, and they still have not reviewed my application, so I am importing a text file here that contains my temporary API key. You can receive one via the [Riot Games Developer Portal](https://developer.riotgames.com/). This data is publicly available to anyone with an API key, and keys are free to obtain. Everything is stored in a JSON format at Riot, and since pandas supports JSON parsing, the data will be easy to represent."
   ]
  },
  {
   "cell_type": "code",
   "execution_count": 2,
   "id": "bound-observer",
   "metadata": {},
   "outputs": [],
   "source": [
    "# Opening the API key text file\n",
    "with open (\"api.txt\", \"r\") as myfile:\n",
    "    data=myfile.readlines()\n",
    "    \n",
    "api = data[0]\n",
    "\n",
    "# Using the API to format the account API request URL properly.\n",
    "request_account = \"https://na1.api.riotgames.com/lol/summoner/v4/summoners/by-name/OG%20Zoidberg?api_key={}\".format(api)"
   ]
  },
  {
   "cell_type": "code",
   "execution_count": 3,
   "id": "special-creator",
   "metadata": {},
   "outputs": [],
   "source": [
    "# Riot utilizes JSON for their API, so I can convert the raw request module data into json using the appropriate function.\n",
    "account_json = requests.get(request_account).json()\n",
    "df = pd.DataFrame.from_dict(account_json, 'index')\n",
    "# pandas supports json, so you can immediately put the json into a dataframe. It may need work, but it's a good start."
   ]
  },
  {
   "cell_type": "markdown",
   "id": "published-receptor",
   "metadata": {},
   "source": [
    "The produced dataframe contains some account details, none of which are super sensitive, since anyone can search my username, \"OG Zoidberg\", on the API. Anyways, now that we have the accountId, we can request from the match history API to receive a list of matches. Notice below there are several pandas DataFrames for matches. This is another limiation of the Riot API. The maximum number of games I can request is 100 per request, and I have played over 200 games, but less than 300. In addition, for the purposes of this assignment, I have stopped playing Ranked in order to ensure my dataset is of a fixed size. There are other important parameters to consider. Accoring to official documentation (found [here](https://developer.riotgames.com/docs/lol)), there is a file for Queue types (Ranked, Unranked, etc) as well as a file containing the different \"season\" identifications (though it is now deprecated, I can cross reference the amount of games I've played this season with the query in order to make sure I don't actually request any preseason or Season 2020 games or anything before that). The Queue ID for ranked is 420, and the Season ID is 13, so we can factor these into the three request URLs as well."
   ]
  },
  {
   "cell_type": "code",
   "execution_count": 4,
   "id": "criminal-exchange",
   "metadata": {
    "scrolled": true
   },
   "outputs": [],
   "source": [
    "acc_id = df.iat[1,0] # Retrieving my accountID\n",
    "acc_id\n",
    "request_match_history = \"https://na1.api.riotgames.com/lol/match/v4/matchlists/by-account/{}?queue=420&season=13&api_key={}\".format(acc_id, api)\n",
    "matches_json = requests.get(request_match_history).json()\n",
    "match_df = pd.DataFrame.from_dict(matches_json) # We have a DataFrame for my most recent 100 matches now.\n",
    "\n",
    "#according to the totalGames column, I have recorded more than 100 games this season, but the DataFrame only accounts for 100. We need to requery to get\n",
    "#the rest of the games. This limitation is not on our end, but rather the API designer.\n",
    "match_df2 = pd.DataFrame.from_dict(requests.get(\"https://na1.api.riotgames.com/lol/match/v4/matchlists/by-account/niRqhyE4liN4qzGIsmGuIO6jqEqbt6Qfj0IH8U_hV6E-468?queue=420&season=13&beginIndex=100&api_key={}\".format(api)).json())\n",
    "match_df3 = pd.DataFrame.from_dict(requests.get(\"https://na1.api.riotgames.com/lol/match/v4/matchlists/by-account/niRqhyE4liN4qzGIsmGuIO6jqEqbt6Qfj0IH8U_hV6E-468?queue=420&season=13&endIndex=272&beginIndex=200&api_key={}\".format(api)).json())"
   ]
  },
  {
   "cell_type": "code",
   "execution_count": 5,
   "id": "viral-firewall",
   "metadata": {},
   "outputs": [
    {
     "data": {
      "text/html": [
       "<div>\n",
       "<style scoped>\n",
       "    .dataframe tbody tr th:only-of-type {\n",
       "        vertical-align: middle;\n",
       "    }\n",
       "\n",
       "    .dataframe tbody tr th {\n",
       "        vertical-align: top;\n",
       "    }\n",
       "\n",
       "    .dataframe thead th {\n",
       "        text-align: right;\n",
       "    }\n",
       "</style>\n",
       "<table border=\"1\" class=\"dataframe\">\n",
       "  <thead>\n",
       "    <tr style=\"text-align: right;\">\n",
       "      <th></th>\n",
       "      <th>matches</th>\n",
       "      <th>startIndex</th>\n",
       "      <th>endIndex</th>\n",
       "      <th>totalGames</th>\n",
       "    </tr>\n",
       "  </thead>\n",
       "  <tbody>\n",
       "    <tr>\n",
       "      <th>0</th>\n",
       "      <td>{'platformId': 'NA1', 'gameId': 3838696903, 'c...</td>\n",
       "      <td>100</td>\n",
       "      <td>200</td>\n",
       "      <td>304</td>\n",
       "    </tr>\n",
       "    <tr>\n",
       "      <th>1</th>\n",
       "      <td>{'platformId': 'NA1', 'gameId': 3837335394, 'c...</td>\n",
       "      <td>100</td>\n",
       "      <td>200</td>\n",
       "      <td>304</td>\n",
       "    </tr>\n",
       "    <tr>\n",
       "      <th>2</th>\n",
       "      <td>{'platformId': 'NA1', 'gameId': 3837166306, 'c...</td>\n",
       "      <td>100</td>\n",
       "      <td>200</td>\n",
       "      <td>304</td>\n",
       "    </tr>\n",
       "    <tr>\n",
       "      <th>3</th>\n",
       "      <td>{'platformId': 'NA1', 'gameId': 3837133018, 'c...</td>\n",
       "      <td>100</td>\n",
       "      <td>200</td>\n",
       "      <td>304</td>\n",
       "    </tr>\n",
       "    <tr>\n",
       "      <th>4</th>\n",
       "      <td>{'platformId': 'NA1', 'gameId': 3837069642, 'c...</td>\n",
       "      <td>100</td>\n",
       "      <td>200</td>\n",
       "      <td>304</td>\n",
       "    </tr>\n",
       "    <tr>\n",
       "      <th>...</th>\n",
       "      <td>...</td>\n",
       "      <td>...</td>\n",
       "      <td>...</td>\n",
       "      <td>...</td>\n",
       "    </tr>\n",
       "    <tr>\n",
       "      <th>95</th>\n",
       "      <td>{'platformId': 'NA1', 'gameId': 3778279919, 'c...</td>\n",
       "      <td>100</td>\n",
       "      <td>200</td>\n",
       "      <td>304</td>\n",
       "    </tr>\n",
       "    <tr>\n",
       "      <th>96</th>\n",
       "      <td>{'platformId': 'NA1', 'gameId': 3776881116, 'c...</td>\n",
       "      <td>100</td>\n",
       "      <td>200</td>\n",
       "      <td>304</td>\n",
       "    </tr>\n",
       "    <tr>\n",
       "      <th>97</th>\n",
       "      <td>{'platformId': 'NA1', 'gameId': 3776668969, 'c...</td>\n",
       "      <td>100</td>\n",
       "      <td>200</td>\n",
       "      <td>304</td>\n",
       "    </tr>\n",
       "    <tr>\n",
       "      <th>98</th>\n",
       "      <td>{'platformId': 'NA1', 'gameId': 3773560435, 'c...</td>\n",
       "      <td>100</td>\n",
       "      <td>200</td>\n",
       "      <td>304</td>\n",
       "    </tr>\n",
       "    <tr>\n",
       "      <th>99</th>\n",
       "      <td>{'platformId': 'NA1', 'gameId': 3772701028, 'c...</td>\n",
       "      <td>100</td>\n",
       "      <td>200</td>\n",
       "      <td>304</td>\n",
       "    </tr>\n",
       "  </tbody>\n",
       "</table>\n",
       "<p>100 rows × 4 columns</p>\n",
       "</div>"
      ],
      "text/plain": [
       "                                              matches  startIndex  endIndex  \\\n",
       "0   {'platformId': 'NA1', 'gameId': 3838696903, 'c...         100       200   \n",
       "1   {'platformId': 'NA1', 'gameId': 3837335394, 'c...         100       200   \n",
       "2   {'platformId': 'NA1', 'gameId': 3837166306, 'c...         100       200   \n",
       "3   {'platformId': 'NA1', 'gameId': 3837133018, 'c...         100       200   \n",
       "4   {'platformId': 'NA1', 'gameId': 3837069642, 'c...         100       200   \n",
       "..                                                ...         ...       ...   \n",
       "95  {'platformId': 'NA1', 'gameId': 3778279919, 'c...         100       200   \n",
       "96  {'platformId': 'NA1', 'gameId': 3776881116, 'c...         100       200   \n",
       "97  {'platformId': 'NA1', 'gameId': 3776668969, 'c...         100       200   \n",
       "98  {'platformId': 'NA1', 'gameId': 3773560435, 'c...         100       200   \n",
       "99  {'platformId': 'NA1', 'gameId': 3772701028, 'c...         100       200   \n",
       "\n",
       "    totalGames  \n",
       "0          304  \n",
       "1          304  \n",
       "2          304  \n",
       "3          304  \n",
       "4          304  \n",
       "..         ...  \n",
       "95         304  \n",
       "96         304  \n",
       "97         304  \n",
       "98         304  \n",
       "99         304  \n",
       "\n",
       "[100 rows x 4 columns]"
      ]
     },
     "execution_count": 5,
     "metadata": {},
     "output_type": "execute_result"
    }
   ],
   "source": [
    "match_df2"
   ]
  },
  {
   "cell_type": "markdown",
   "id": "auburn-sword",
   "metadata": {},
   "source": [
    "This is an example output of a request. Here the only column worth anything is the first column, so we can put them all into a list, and then into a dataframe. We don't have to worry about the other columns since they are just static indices and are the same within each dataframe. The method I am using below uses three iterators, one for each dataframe, using the [.iterrows() function](https://pandas.pydata.org/pandas-docs/version/1.1.5/reference/api/pandas.DataFrame.iterrows.html). This was one way of doing it, but you could also just iterate through the indices and switch to the different dataframes at the correct intervals. That method would result in more code, though. In addition, the amount of loops will vary based on the amount of games you want to analyze. For example, an account like [HULKSMASH1337](https://na.op.gg/summoner/userName=HULKSMASH1337) has over 5 times the amount of games I have, so the amount of requests and loops would be much higher."
   ]
  },
  {
   "cell_type": "code",
   "execution_count": 6,
   "id": "reliable-graduate",
   "metadata": {},
   "outputs": [],
   "source": [
    "# Now let's make a list of just the matches columns throughout each table. Don't worry, this will be simple.\n",
    "match_list = []\n",
    "for index, row in match_df.iterrows():\n",
    "    match_list.append(match_df.at[index, 'matches']) # Extracts match data from each row\n",
    "\n",
    "for index, row in match_df2.iterrows():\n",
    "    match_list.append(match_df2.at[index, 'matches'])\n",
    "    \n",
    "for index, row in match_df3.iterrows():\n",
    "    match_list.append(match_df3.at[index, 'matches'])\n",
    "     \n",
    "matches = pd.DataFrame(match_list) # Let's see what an example match looks like"
   ]
  },
  {
   "cell_type": "code",
   "execution_count": 7,
   "id": "intensive-desktop",
   "metadata": {},
   "outputs": [
    {
     "data": {
      "text/html": [
       "<div>\n",
       "<style scoped>\n",
       "    .dataframe tbody tr th:only-of-type {\n",
       "        vertical-align: middle;\n",
       "    }\n",
       "\n",
       "    .dataframe tbody tr th {\n",
       "        vertical-align: top;\n",
       "    }\n",
       "\n",
       "    .dataframe thead th {\n",
       "        text-align: right;\n",
       "    }\n",
       "</style>\n",
       "<table border=\"1\" class=\"dataframe\">\n",
       "  <thead>\n",
       "    <tr style=\"text-align: right;\">\n",
       "      <th></th>\n",
       "      <th>platformId</th>\n",
       "      <th>gameId</th>\n",
       "      <th>champion</th>\n",
       "      <th>queue</th>\n",
       "      <th>season</th>\n",
       "      <th>timestamp</th>\n",
       "      <th>role</th>\n",
       "      <th>lane</th>\n",
       "    </tr>\n",
       "  </thead>\n",
       "  <tbody>\n",
       "    <tr>\n",
       "      <th>0</th>\n",
       "      <td>NA1</td>\n",
       "      <td>3891078743</td>\n",
       "      <td>223</td>\n",
       "      <td>420</td>\n",
       "      <td>13</td>\n",
       "      <td>1620000480427</td>\n",
       "      <td>DUO_SUPPORT</td>\n",
       "      <td>BOTTOM</td>\n",
       "    </tr>\n",
       "    <tr>\n",
       "      <th>1</th>\n",
       "      <td>NA1</td>\n",
       "      <td>3890814530</td>\n",
       "      <td>223</td>\n",
       "      <td>420</td>\n",
       "      <td>13</td>\n",
       "      <td>1619982025999</td>\n",
       "      <td>DUO_SUPPORT</td>\n",
       "      <td>MID</td>\n",
       "    </tr>\n",
       "    <tr>\n",
       "      <th>2</th>\n",
       "      <td>NA1</td>\n",
       "      <td>3887847786</td>\n",
       "      <td>223</td>\n",
       "      <td>420</td>\n",
       "      <td>13</td>\n",
       "      <td>1619808283274</td>\n",
       "      <td>DUO_SUPPORT</td>\n",
       "      <td>BOTTOM</td>\n",
       "    </tr>\n",
       "    <tr>\n",
       "      <th>3</th>\n",
       "      <td>NA1</td>\n",
       "      <td>3887833651</td>\n",
       "      <td>223</td>\n",
       "      <td>420</td>\n",
       "      <td>13</td>\n",
       "      <td>1619806038840</td>\n",
       "      <td>DUO_SUPPORT</td>\n",
       "      <td>BOTTOM</td>\n",
       "    </tr>\n",
       "    <tr>\n",
       "      <th>4</th>\n",
       "      <td>NA1</td>\n",
       "      <td>3884906923</td>\n",
       "      <td>50</td>\n",
       "      <td>420</td>\n",
       "      <td>13</td>\n",
       "      <td>1619637970972</td>\n",
       "      <td>DUO_SUPPORT</td>\n",
       "      <td>BOTTOM</td>\n",
       "    </tr>\n",
       "    <tr>\n",
       "      <th>...</th>\n",
       "      <td>...</td>\n",
       "      <td>...</td>\n",
       "      <td>...</td>\n",
       "      <td>...</td>\n",
       "      <td>...</td>\n",
       "      <td>...</td>\n",
       "      <td>...</td>\n",
       "      <td>...</td>\n",
       "    </tr>\n",
       "    <tr>\n",
       "      <th>267</th>\n",
       "      <td>NA1</td>\n",
       "      <td>3737087437</td>\n",
       "      <td>223</td>\n",
       "      <td>420</td>\n",
       "      <td>13</td>\n",
       "      <td>1610218825794</td>\n",
       "      <td>SOLO</td>\n",
       "      <td>BOTTOM</td>\n",
       "    </tr>\n",
       "    <tr>\n",
       "      <th>268</th>\n",
       "      <td>NA1</td>\n",
       "      <td>3736287048</td>\n",
       "      <td>223</td>\n",
       "      <td>420</td>\n",
       "      <td>13</td>\n",
       "      <td>1610159355278</td>\n",
       "      <td>DUO_SUPPORT</td>\n",
       "      <td>BOTTOM</td>\n",
       "    </tr>\n",
       "    <tr>\n",
       "      <th>269</th>\n",
       "      <td>NA1</td>\n",
       "      <td>3735983822</td>\n",
       "      <td>223</td>\n",
       "      <td>420</td>\n",
       "      <td>13</td>\n",
       "      <td>1610141302677</td>\n",
       "      <td>SOLO</td>\n",
       "      <td>MID</td>\n",
       "    </tr>\n",
       "    <tr>\n",
       "      <th>270</th>\n",
       "      <td>NA1</td>\n",
       "      <td>3735928268</td>\n",
       "      <td>115</td>\n",
       "      <td>420</td>\n",
       "      <td>13</td>\n",
       "      <td>1610138756604</td>\n",
       "      <td>SOLO</td>\n",
       "      <td>MID</td>\n",
       "    </tr>\n",
       "    <tr>\n",
       "      <th>271</th>\n",
       "      <td>NA1</td>\n",
       "      <td>3735953139</td>\n",
       "      <td>115</td>\n",
       "      <td>420</td>\n",
       "      <td>13</td>\n",
       "      <td>1610136275311</td>\n",
       "      <td>SOLO</td>\n",
       "      <td>MID</td>\n",
       "    </tr>\n",
       "  </tbody>\n",
       "</table>\n",
       "<p>272 rows × 8 columns</p>\n",
       "</div>"
      ],
      "text/plain": [
       "    platformId      gameId  champion  queue  season      timestamp  \\\n",
       "0          NA1  3891078743       223    420      13  1620000480427   \n",
       "1          NA1  3890814530       223    420      13  1619982025999   \n",
       "2          NA1  3887847786       223    420      13  1619808283274   \n",
       "3          NA1  3887833651       223    420      13  1619806038840   \n",
       "4          NA1  3884906923        50    420      13  1619637970972   \n",
       "..         ...         ...       ...    ...     ...            ...   \n",
       "267        NA1  3737087437       223    420      13  1610218825794   \n",
       "268        NA1  3736287048       223    420      13  1610159355278   \n",
       "269        NA1  3735983822       223    420      13  1610141302677   \n",
       "270        NA1  3735928268       115    420      13  1610138756604   \n",
       "271        NA1  3735953139       115    420      13  1610136275311   \n",
       "\n",
       "            role    lane  \n",
       "0    DUO_SUPPORT  BOTTOM  \n",
       "1    DUO_SUPPORT     MID  \n",
       "2    DUO_SUPPORT  BOTTOM  \n",
       "3    DUO_SUPPORT  BOTTOM  \n",
       "4    DUO_SUPPORT  BOTTOM  \n",
       "..           ...     ...  \n",
       "267         SOLO  BOTTOM  \n",
       "268  DUO_SUPPORT  BOTTOM  \n",
       "269         SOLO     MID  \n",
       "270         SOLO     MID  \n",
       "271         SOLO     MID  \n",
       "\n",
       "[272 rows x 8 columns]"
      ]
     },
     "execution_count": 7,
     "metadata": {},
     "output_type": "execute_result"
    }
   ],
   "source": [
    "matches"
   ]
  },
  {
   "cell_type": "markdown",
   "id": "indirect-stations",
   "metadata": {},
   "source": [
    "Now that we have the list of match histories, we can remove all those in which I did **not** play support, or in other words, games in which I played outside of the bottom lane. The easiest way to do this is via checking my played characters, because the role and lane colummns are not always accurate. [According to my profile on OP.gg](https://na.op.gg/summoner/userName=OG%20Zoidberg), in addition to the 4 support characters, there are two middle lane mage characters: Azir and Ziggs. I am omitting these games as Middle Lane is not my main role, and they do not accurately reflect on me as a player. In addition, I played a single game of Tahm Kench middle at the start of the season due to an inattentive teammate. We can iterate through the dataframe and drop the rows were champion ID equals anything other than 223 (Tahm Kench), 50 (Swain), 267 (Nami), and 412 (Thresh), as these are the only Support characters I have played during this Season. These values are given via [the champion json file](http://ddragon.leagueoflegends.com/cdn/11.9.1/data/en_US/champion.json). In addition, I remember my first two games of the season were played on Ziggs, and you can tell that the requests were correct given the last two rows have ID 115 for Ziggs."
   ]
  },
  {
   "cell_type": "code",
   "execution_count": 8,
   "id": "adequate-container",
   "metadata": {},
   "outputs": [],
   "source": [
    "to_rem_list = []\n",
    "for index, row in matches.iterrows():\n",
    "    if matches.iat[index, 2] != 223 and matches.iat[index, 2] != 50 and matches.iat[index, 2] != 267 and matches.iat[index, 2] != 412:\n",
    "        to_rem_list.append(index)\n",
    "        \n",
    "for x in to_rem_list:\n",
    "    matches = matches.drop(x)"
   ]
  },
  {
   "cell_type": "markdown",
   "id": "terminal-folks",
   "metadata": {},
   "source": [
    "Now to remove the Tahm Mid game, since it won't be useful in my analyses:"
   ]
  },
  {
   "cell_type": "code",
   "execution_count": 9,
   "id": "numeric-cisco",
   "metadata": {},
   "outputs": [],
   "source": [
    "matches = matches.drop(269)"
   ]
  },
  {
   "cell_type": "code",
   "execution_count": 10,
   "id": "promotional-bishop",
   "metadata": {},
   "outputs": [],
   "source": [
    "match_list_detailed = []\n",
    "import time\n",
    "matches = matches.reset_index() # resetting indices so the following loop will ACTUALLY work :)"
   ]
  },
  {
   "cell_type": "markdown",
   "id": "harmful-seller",
   "metadata": {},
   "source": [
    "We have some kind of data, but it's really not what we want, or need. Using the API again, we can use the gameId field with the NA1_ prefix (since I play on the North American server) to get a list of detailed match statistics. The API has a rate limit, so this always takes a few minutes to complete. I imported the time module above in order to prevent a break in the rate limit. You could change the code for different servers, such as the Korean server or one of the many European servers."
   ]
  },
  {
   "cell_type": "code",
   "execution_count": 11,
   "id": "behavioral-chaos",
   "metadata": {
    "scrolled": false
   },
   "outputs": [],
   "source": [
    "for index, row in matches.iterrows():\n",
    "    time.sleep(1.3)\n",
    "    game_example_dict = requests.get(\"https://americas.api.riotgames.com/lol/match/v5/matches/NA1_{}?api_key={}\".format(matches.iat[index, 2], api)).json()\n",
    "    match_list_detailed.append((game_example_dict['info'])['participants'])"
   ]
  },
  {
   "cell_type": "code",
   "execution_count": 12,
   "id": "engaged-pizza",
   "metadata": {},
   "outputs": [],
   "source": [
    "df_list = []\n",
    "for x in match_list_detailed:\n",
    "    df_list.append(pd.DataFrame(x))"
   ]
  },
  {
   "cell_type": "markdown",
   "id": "excessive-check",
   "metadata": {},
   "source": [
    "Let's drop some of the columns we don't need:"
   ]
  },
  {
   "cell_type": "code",
   "execution_count": 13,
   "id": "accepting-crest",
   "metadata": {},
   "outputs": [],
   "source": [
    "df_list2 = []\n",
    "for data in df_list:\n",
    "    df_list2.append(data.drop(columns=['championTransform', 'participantId', 'perks', 'profileIcon', 'riotIdTagline', 'sightWardsBoughtInGame', 'summonerId', 'summonerLevel', 'timePlayed','bountyLevel','champExperience','consumablesPurchased', 'unrealKills','spell1Casts','spell2Casts','spell3Casts','spell4Casts']))"
   ]
  },
  {
   "cell_type": "markdown",
   "id": "assigned-wednesday",
   "metadata": {},
   "source": [
    "This should give us a list of match dataframes. I also dropped several columns that will not be useful in our analysis, like bounties, ability cast numbers, and more. Now we can actually explore this data and find things the League Client won't tell you! Let's see what a single game looks like."
   ]
  },
  {
   "cell_type": "code",
   "execution_count": 14,
   "id": "productive-notebook",
   "metadata": {},
   "outputs": [
    {
     "data": {
      "text/html": [
       "<div>\n",
       "<style scoped>\n",
       "    .dataframe tbody tr th:only-of-type {\n",
       "        vertical-align: middle;\n",
       "    }\n",
       "\n",
       "    .dataframe tbody tr th {\n",
       "        vertical-align: top;\n",
       "    }\n",
       "\n",
       "    .dataframe thead th {\n",
       "        text-align: right;\n",
       "    }\n",
       "</style>\n",
       "<table border=\"1\" class=\"dataframe\">\n",
       "  <thead>\n",
       "    <tr style=\"text-align: right;\">\n",
       "      <th></th>\n",
       "      <th>assists</th>\n",
       "      <th>baronKills</th>\n",
       "      <th>champLevel</th>\n",
       "      <th>championId</th>\n",
       "      <th>championName</th>\n",
       "      <th>damageDealtToBuildings</th>\n",
       "      <th>damageDealtToObjectives</th>\n",
       "      <th>damageDealtToTurrets</th>\n",
       "      <th>damageSelfMitigated</th>\n",
       "      <th>deaths</th>\n",
       "      <th>...</th>\n",
       "      <th>trueDamageDealt</th>\n",
       "      <th>trueDamageDealtToChampions</th>\n",
       "      <th>trueDamageTaken</th>\n",
       "      <th>turretKills</th>\n",
       "      <th>turretsLost</th>\n",
       "      <th>visionScore</th>\n",
       "      <th>visionWardsBoughtInGame</th>\n",
       "      <th>wardsKilled</th>\n",
       "      <th>wardsPlaced</th>\n",
       "      <th>win</th>\n",
       "    </tr>\n",
       "  </thead>\n",
       "  <tbody>\n",
       "    <tr>\n",
       "      <th>0</th>\n",
       "      <td>1</td>\n",
       "      <td>0</td>\n",
       "      <td>17</td>\n",
       "      <td>62</td>\n",
       "      <td>MonkeyKing</td>\n",
       "      <td>8103</td>\n",
       "      <td>29974</td>\n",
       "      <td>8103</td>\n",
       "      <td>27326</td>\n",
       "      <td>5</td>\n",
       "      <td>...</td>\n",
       "      <td>10929</td>\n",
       "      <td>1485</td>\n",
       "      <td>1355</td>\n",
       "      <td>7</td>\n",
       "      <td>5</td>\n",
       "      <td>26</td>\n",
       "      <td>2</td>\n",
       "      <td>5</td>\n",
       "      <td>12</td>\n",
       "      <td>True</td>\n",
       "    </tr>\n",
       "    <tr>\n",
       "      <th>1</th>\n",
       "      <td>8</td>\n",
       "      <td>0</td>\n",
       "      <td>15</td>\n",
       "      <td>121</td>\n",
       "      <td>Khazix</td>\n",
       "      <td>467</td>\n",
       "      <td>19758</td>\n",
       "      <td>467</td>\n",
       "      <td>20291</td>\n",
       "      <td>11</td>\n",
       "      <td>...</td>\n",
       "      <td>9919</td>\n",
       "      <td>187</td>\n",
       "      <td>1275</td>\n",
       "      <td>0</td>\n",
       "      <td>5</td>\n",
       "      <td>30</td>\n",
       "      <td>3</td>\n",
       "      <td>4</td>\n",
       "      <td>5</td>\n",
       "      <td>True</td>\n",
       "    </tr>\n",
       "    <tr>\n",
       "      <th>2</th>\n",
       "      <td>7</td>\n",
       "      <td>0</td>\n",
       "      <td>17</td>\n",
       "      <td>74</td>\n",
       "      <td>Heimerdinger</td>\n",
       "      <td>9467</td>\n",
       "      <td>18869</td>\n",
       "      <td>9467</td>\n",
       "      <td>11781</td>\n",
       "      <td>9</td>\n",
       "      <td>...</td>\n",
       "      <td>6207</td>\n",
       "      <td>744</td>\n",
       "      <td>723</td>\n",
       "      <td>2</td>\n",
       "      <td>5</td>\n",
       "      <td>33</td>\n",
       "      <td>3</td>\n",
       "      <td>2</td>\n",
       "      <td>14</td>\n",
       "      <td>True</td>\n",
       "    </tr>\n",
       "    <tr>\n",
       "      <th>3</th>\n",
       "      <td>5</td>\n",
       "      <td>0</td>\n",
       "      <td>14</td>\n",
       "      <td>202</td>\n",
       "      <td>Jhin</td>\n",
       "      <td>1285</td>\n",
       "      <td>4531</td>\n",
       "      <td>1285</td>\n",
       "      <td>8915</td>\n",
       "      <td>11</td>\n",
       "      <td>...</td>\n",
       "      <td>410</td>\n",
       "      <td>168</td>\n",
       "      <td>1368</td>\n",
       "      <td>0</td>\n",
       "      <td>5</td>\n",
       "      <td>14</td>\n",
       "      <td>1</td>\n",
       "      <td>2</td>\n",
       "      <td>8</td>\n",
       "      <td>True</td>\n",
       "    </tr>\n",
       "    <tr>\n",
       "      <th>4</th>\n",
       "      <td>10</td>\n",
       "      <td>0</td>\n",
       "      <td>13</td>\n",
       "      <td>223</td>\n",
       "      <td>TahmKench</td>\n",
       "      <td>117</td>\n",
       "      <td>1407</td>\n",
       "      <td>117</td>\n",
       "      <td>41249</td>\n",
       "      <td>7</td>\n",
       "      <td>...</td>\n",
       "      <td>4240</td>\n",
       "      <td>0</td>\n",
       "      <td>2331</td>\n",
       "      <td>1</td>\n",
       "      <td>5</td>\n",
       "      <td>55</td>\n",
       "      <td>3</td>\n",
       "      <td>5</td>\n",
       "      <td>22</td>\n",
       "      <td>True</td>\n",
       "    </tr>\n",
       "    <tr>\n",
       "      <th>5</th>\n",
       "      <td>11</td>\n",
       "      <td>0</td>\n",
       "      <td>14</td>\n",
       "      <td>114</td>\n",
       "      <td>Fiora</td>\n",
       "      <td>370</td>\n",
       "      <td>1471</td>\n",
       "      <td>370</td>\n",
       "      <td>16410</td>\n",
       "      <td>8</td>\n",
       "      <td>...</td>\n",
       "      <td>20220</td>\n",
       "      <td>4610</td>\n",
       "      <td>324</td>\n",
       "      <td>0</td>\n",
       "      <td>10</td>\n",
       "      <td>22</td>\n",
       "      <td>2</td>\n",
       "      <td>5</td>\n",
       "      <td>12</td>\n",
       "      <td>False</td>\n",
       "    </tr>\n",
       "    <tr>\n",
       "      <th>6</th>\n",
       "      <td>8</td>\n",
       "      <td>0</td>\n",
       "      <td>16</td>\n",
       "      <td>64</td>\n",
       "      <td>LeeSin</td>\n",
       "      <td>0</td>\n",
       "      <td>14219</td>\n",
       "      <td>0</td>\n",
       "      <td>32768</td>\n",
       "      <td>8</td>\n",
       "      <td>...</td>\n",
       "      <td>5689</td>\n",
       "      <td>734</td>\n",
       "      <td>357</td>\n",
       "      <td>0</td>\n",
       "      <td>10</td>\n",
       "      <td>43</td>\n",
       "      <td>13</td>\n",
       "      <td>4</td>\n",
       "      <td>20</td>\n",
       "      <td>False</td>\n",
       "    </tr>\n",
       "    <tr>\n",
       "      <th>7</th>\n",
       "      <td>14</td>\n",
       "      <td>0</td>\n",
       "      <td>18</td>\n",
       "      <td>8</td>\n",
       "      <td>Vladimir</td>\n",
       "      <td>1492</td>\n",
       "      <td>1492</td>\n",
       "      <td>1492</td>\n",
       "      <td>14985</td>\n",
       "      <td>8</td>\n",
       "      <td>...</td>\n",
       "      <td>1410</td>\n",
       "      <td>1016</td>\n",
       "      <td>728</td>\n",
       "      <td>1</td>\n",
       "      <td>10</td>\n",
       "      <td>30</td>\n",
       "      <td>3</td>\n",
       "      <td>2</td>\n",
       "      <td>15</td>\n",
       "      <td>False</td>\n",
       "    </tr>\n",
       "    <tr>\n",
       "      <th>8</th>\n",
       "      <td>16</td>\n",
       "      <td>0</td>\n",
       "      <td>17</td>\n",
       "      <td>51</td>\n",
       "      <td>Caitlyn</td>\n",
       "      <td>11417</td>\n",
       "      <td>17893</td>\n",
       "      <td>11417</td>\n",
       "      <td>10754</td>\n",
       "      <td>8</td>\n",
       "      <td>...</td>\n",
       "      <td>2243</td>\n",
       "      <td>693</td>\n",
       "      <td>692</td>\n",
       "      <td>3</td>\n",
       "      <td>10</td>\n",
       "      <td>18</td>\n",
       "      <td>1</td>\n",
       "      <td>2</td>\n",
       "      <td>12</td>\n",
       "      <td>False</td>\n",
       "    </tr>\n",
       "    <tr>\n",
       "      <th>9</th>\n",
       "      <td>16</td>\n",
       "      <td>0</td>\n",
       "      <td>16</td>\n",
       "      <td>101</td>\n",
       "      <td>Xerath</td>\n",
       "      <td>1734</td>\n",
       "      <td>1734</td>\n",
       "      <td>1734</td>\n",
       "      <td>7138</td>\n",
       "      <td>6</td>\n",
       "      <td>...</td>\n",
       "      <td>276</td>\n",
       "      <td>0</td>\n",
       "      <td>483</td>\n",
       "      <td>0</td>\n",
       "      <td>10</td>\n",
       "      <td>50</td>\n",
       "      <td>0</td>\n",
       "      <td>2</td>\n",
       "      <td>28</td>\n",
       "      <td>False</td>\n",
       "    </tr>\n",
       "  </tbody>\n",
       "</table>\n",
       "<p>10 rows × 85 columns</p>\n",
       "</div>"
      ],
      "text/plain": [
       "   assists  baronKills  champLevel  championId  championName  \\\n",
       "0        1           0          17          62    MonkeyKing   \n",
       "1        8           0          15         121        Khazix   \n",
       "2        7           0          17          74  Heimerdinger   \n",
       "3        5           0          14         202          Jhin   \n",
       "4       10           0          13         223     TahmKench   \n",
       "5       11           0          14         114         Fiora   \n",
       "6        8           0          16          64        LeeSin   \n",
       "7       14           0          18           8      Vladimir   \n",
       "8       16           0          17          51       Caitlyn   \n",
       "9       16           0          16         101        Xerath   \n",
       "\n",
       "   damageDealtToBuildings  damageDealtToObjectives  damageDealtToTurrets  \\\n",
       "0                    8103                    29974                  8103   \n",
       "1                     467                    19758                   467   \n",
       "2                    9467                    18869                  9467   \n",
       "3                    1285                     4531                  1285   \n",
       "4                     117                     1407                   117   \n",
       "5                     370                     1471                   370   \n",
       "6                       0                    14219                     0   \n",
       "7                    1492                     1492                  1492   \n",
       "8                   11417                    17893                 11417   \n",
       "9                    1734                     1734                  1734   \n",
       "\n",
       "   damageSelfMitigated  deaths  ...  trueDamageDealt  \\\n",
       "0                27326       5  ...            10929   \n",
       "1                20291      11  ...             9919   \n",
       "2                11781       9  ...             6207   \n",
       "3                 8915      11  ...              410   \n",
       "4                41249       7  ...             4240   \n",
       "5                16410       8  ...            20220   \n",
       "6                32768       8  ...             5689   \n",
       "7                14985       8  ...             1410   \n",
       "8                10754       8  ...             2243   \n",
       "9                 7138       6  ...              276   \n",
       "\n",
       "   trueDamageDealtToChampions  trueDamageTaken  turretKills  turretsLost  \\\n",
       "0                        1485             1355            7            5   \n",
       "1                         187             1275            0            5   \n",
       "2                         744              723            2            5   \n",
       "3                         168             1368            0            5   \n",
       "4                           0             2331            1            5   \n",
       "5                        4610              324            0           10   \n",
       "6                         734              357            0           10   \n",
       "7                        1016              728            1           10   \n",
       "8                         693              692            3           10   \n",
       "9                           0              483            0           10   \n",
       "\n",
       "   visionScore  visionWardsBoughtInGame  wardsKilled  wardsPlaced    win  \n",
       "0           26                        2            5           12   True  \n",
       "1           30                        3            4            5   True  \n",
       "2           33                        3            2           14   True  \n",
       "3           14                        1            2            8   True  \n",
       "4           55                        3            5           22   True  \n",
       "5           22                        2            5           12  False  \n",
       "6           43                       13            4           20  False  \n",
       "7           30                        3            2           15  False  \n",
       "8           18                        1            2           12  False  \n",
       "9           50                        0            2           28  False  \n",
       "\n",
       "[10 rows x 85 columns]"
      ]
     },
     "execution_count": 14,
     "metadata": {},
     "output_type": "execute_result"
    }
   ],
   "source": [
    "pd.set_option('display.max_columns', 20)\n",
    "df_list2[0]"
   ]
  },
  {
   "cell_type": "markdown",
   "id": "alike-gossip",
   "metadata": {},
   "source": [
    "That's a lot of columns! As you can see very many stats go into the game overall. These column names are given by Riot, and if I use one, I will explain its name if it is not apparent. This was my most recent ranked game, since they are recorded with the newest games appearing at the top. It looks like my team won this game, but now we can start to use this data for analysis and representation."
   ]
  },
  {
   "cell_type": "markdown",
   "id": "complete-recipient",
   "metadata": {},
   "source": [
    "Data Analysis 1: Keep Your Friends Close...\n",
    "--------------------\n",
    "We're finally on to the nitty-gritty of the project, where we, as Data Scientists, have to make sense of it all. There are many statistics I could focus on such as overall win rate, win rate over time, Wards bought vs Wins, and more. First, let's take a look at my lane partners: Bottom Laners, typically referred to as ADCs. Attack Damage Carries (ADCs) are a class of character typically played alongside supports in the bottom lane. In addition to these characters, there are also several flex picks (typically mages). Team Composition is one of the most important aspects of League, as many games can be decided before the game even begins. Some teams pick a more balanced composition, while others may be extremely unbalanced or underpowered. Let's go through each game, find out who my lane partner was, and whether or not we won. The following code block carefully retrieves rows from each game and finds the ADC. There are two special cases in which teammates swapped roles, so I have to take those into account. There are various ways to achieve this, and some are likely less lengthy than this. As long as you get the data you need, it should not cause much concern."
   ]
  },
  {
   "cell_type": "code",
   "execution_count": 15,
   "id": "photographic-impression",
   "metadata": {},
   "outputs": [],
   "source": [
    "adc_dict = {}\n",
    "i = 0\n",
    "while i < 267:\n",
    "    # The method in which one finds the ADC is easy, since they are always displayed next to me. In the above DF you can see\n",
    "    # TahmKench as the championName in row 4. The ADC is always rowindex-1 compared to me. \n",
    "    id = df_list2[i].loc[df_list2[i]['summonerName'] == \"OG Zoidberg\"].index[0]-1\n",
    "    adc_row = df_list2[i].iloc[[id]]\n",
    "    adc_name = adc_row.iat[0, 4]\n",
    "    \n",
    "    if i == 199:      # SPECIAL CASE: KATARINA. Katarina swapped with my ADC leading to a mismatch in the dataframe.\n",
    "        id = df_list2[i].loc[df_list2[i]['summonerName'] == \"OG Zoidberg\"].index[0]-2\n",
    "        adc_row = df_list2[i].iloc[[id]]\n",
    "        adc_name = adc_row.iat[0, 4]\n",
    "        if adc_name in adc_dict:\n",
    "            tup = adc_dict.get(adc_name)\n",
    "            if adc_row.iat[0, 84]:\n",
    "                adc_dict[adc_name] = (tup[0] + 1, tup[1] + 1)\n",
    "            else:\n",
    "                adc_dict[adc_name] = (tup[0], tup[1]+1)\n",
    "            \n",
    "        else:\n",
    "            if adc_row.iat[0,84]:\n",
    "                adc_dict[adc_name] = (1,1)\n",
    "            else:\n",
    "                adc_dict[adc_name] = (0,1)\n",
    "    \n",
    "    elif i == 75:     # SPECIAL CASE: VOLIBEAR. Volibear swapped with my ADC leading to a mismatch in the dataframe.\n",
    "        id = df_list2[i].loc[df_list2[i]['summonerName'] == \"OG Zoidberg\"].index[0]-3\n",
    "        adc_row = df_list2[i].iloc[[id]]\n",
    "        adc_name = adc_row.iat[0, 4]\n",
    "        if adc_name in adc_dict:\n",
    "            tup = adc_dict.get(adc_name)\n",
    "            if adc_row.iat[0, 84]:\n",
    "                adc_dict[adc_name] = (tup[0] + 1, tup[1] + 1)\n",
    "            else:\n",
    "                adc_dict[adc_name] = (tup[0], tup[1]+1)\n",
    "            \n",
    "        else:\n",
    "            if adc_row.iat[0,84]:\n",
    "                adc_dict[adc_name] = (1,1)\n",
    "            else:\n",
    "                adc_dict[adc_name] = (0,1)\n",
    "    \n",
    "    elif i < 200:        # Normal case pre-200\n",
    "        if adc_name in adc_dict:\n",
    "            tup = adc_dict.get(adc_name)\n",
    "            if adc_row.iat[0, 84]:\n",
    "                adc_dict[adc_name] = (tup[0] + 1, tup[1] + 1) # Increment both elements for a win\n",
    "            else:\n",
    "                adc_dict[adc_name] = (tup[0], tup[1]+1)\n",
    "            \n",
    "        else:\n",
    "            if adc_row.iat[0,84]:\n",
    "                adc_dict[adc_name] = (1,1)\n",
    "            else:\n",
    "                adc_dict[adc_name] = (0,1)\n",
    "                \n",
    "    else:                # For some reason there are less columns in the games after 0-199 in the list, need to take that into account.\n",
    "        if adc_name in adc_dict:\n",
    "            tup = adc_dict.get(adc_name)\n",
    "            if adc_row.iat[0, 80]:\n",
    "                adc_dict[adc_name] = (tup[0] + 1, tup[1] + 1)\n",
    "            else:\n",
    "                adc_dict[adc_name] = (tup[0], tup[1]+1)\n",
    "            \n",
    "        else:\n",
    "            if adc_row.iat[0,80]:\n",
    "                adc_dict[adc_name] = (1,1)\n",
    "            else:\n",
    "                adc_dict[adc_name] = (0,1)\n",
    "    \n",
    "   \n",
    "    i += 1"
   ]
  },
  {
   "cell_type": "markdown",
   "id": "weighted-recipe",
   "metadata": {},
   "source": [
    "After that long-winded algorithm we should have a dictionary containing each ADC, as well as the number of times I have played with them, and our wins. Notice how I used .iat for calling data. This meant I had to account for the change in number of columns after index 199. If you want less lengthy code you can just use .at with the column name in the second position. It's another way to compute the same thing, essentially."
   ]
  },
  {
   "cell_type": "code",
   "execution_count": 16,
   "id": "quick-bleeding",
   "metadata": {
    "scrolled": true
   },
   "outputs": [],
   "source": [
    "adc_wins = pd.DataFrame.from_dict(adc_dict, orient='index')\n",
    "adc_wins.columns = ['wins', 'games_played']\n",
    "# Renaming cols for accessibility."
   ]
  },
  {
   "cell_type": "code",
   "execution_count": 17,
   "id": "equal-horizontal",
   "metadata": {},
   "outputs": [],
   "source": [
    "adc_wins['win_rate'] = 0.0\n",
    "for index, row in adc_wins.iterrows():\n",
    "    adc_wins.at[index, 'win_rate'] = float(adc_wins.at[index, 'wins'])/float(adc_wins.at[index, 'games_played'])\n",
    "    \n",
    "# Calculating win percentage"
   ]
  },
  {
   "cell_type": "markdown",
   "id": "governing-society",
   "metadata": {},
   "source": [
    "Let's plot the data. We can use a bar graph to plot the win rates per champion. We can use the built in plot method with pandas. To increase readability we can also specify labels for both axes as well as a title."
   ]
  },
  {
   "cell_type": "code",
   "execution_count": 18,
   "id": "interested-possibility",
   "metadata": {},
   "outputs": [
    {
     "data": {
      "text/plain": [
       "<matplotlib.lines.Line2D at 0x7f8e9f2e31f0>"
      ]
     },
     "execution_count": 18,
     "metadata": {},
     "output_type": "execute_result"
    },
    {
     "data": {
      "image/png": "[encoded data removed]",
      "text/plain": [
       "<Figure size 432x288 with 1 Axes>"
      ]
     },
     "metadata": {
      "needs_background": "light"
     },
     "output_type": "display_data"
    }
   ],
   "source": [
    "plot = adc_wins.plot(kind='bar', y='win_rate', xlabel='Lane Partner', ylabel='Win Rate', title=\"Bottom Lane Partner Win Rates Across All Games\")\n",
    "plot.axhline(y = 0.5, color='g')"
   ]
  },
  {
   "cell_type": "markdown",
   "id": "incorporated-survey",
   "metadata": {},
   "source": [
    "This graph is a little bit misleading though, since the games played differ across all of the champions. We can calculate the appearance percentage for each champion in order to filter out lower appearance rates."
   ]
  },
  {
   "cell_type": "code",
   "execution_count": 19,
   "id": "surprised-england",
   "metadata": {},
   "outputs": [],
   "source": [
    "adc_wins['appearance_rate'] = 0.0\n",
    "for index, row in adc_wins.iterrows():\n",
    "    adc_wins.at[index, 'appearance_rate'] = float(adc_wins.at[index, 'games_played'])/float(len(df_list2))\n",
    "    \n",
    "# calculating appearance rate (games played against / total games)"
   ]
  },
  {
   "cell_type": "markdown",
   "id": "international-suicide",
   "metadata": {},
   "source": [
    "There are many instances of champions with extremely low appearance rates. This is due to the current competitive \"meta\", in which people tend to play a handful of strong champions, while never playing others. In my case, Tahm Kench Support is very rare, since the [patch history](https://leagueoflegends.fandom.com/wiki/Tahm_Kench/LoL/Patch_history) has not been particularly kind to him over the years, and his pick rate currently sits at [1.1% in the support role across all ranks](https://u.gg/lol/champions/tahmkench/build?rank=overall&role=support) at the time of writing. Let's just remove all of the champions that have less than a 4 percent appearance rate as my lane partner. We can accumulate these in a list, and then make a copy of the original dataframe as to prevent indexing errors."
   ]
  },
  {
   "cell_type": "code",
   "execution_count": 20,
   "id": "pharmaceutical-crawford",
   "metadata": {},
   "outputs": [
    {
     "data": {
      "text/html": [
       "<div>\n",
       "<style scoped>\n",
       "    .dataframe tbody tr th:only-of-type {\n",
       "        vertical-align: middle;\n",
       "    }\n",
       "\n",
       "    .dataframe tbody tr th {\n",
       "        vertical-align: top;\n",
       "    }\n",
       "\n",
       "    .dataframe thead th {\n",
       "        text-align: right;\n",
       "    }\n",
       "</style>\n",
       "<table border=\"1\" class=\"dataframe\">\n",
       "  <thead>\n",
       "    <tr style=\"text-align: right;\">\n",
       "      <th></th>\n",
       "      <th>wins</th>\n",
       "      <th>games_played</th>\n",
       "      <th>win_rate</th>\n",
       "      <th>appearance_rate</th>\n",
       "    </tr>\n",
       "  </thead>\n",
       "  <tbody>\n",
       "    <tr>\n",
       "      <th>Jhin</th>\n",
       "      <td>20</td>\n",
       "      <td>29</td>\n",
       "      <td>0.689655</td>\n",
       "      <td>0.108614</td>\n",
       "    </tr>\n",
       "    <tr>\n",
       "      <th>Caitlyn</th>\n",
       "      <td>12</td>\n",
       "      <td>17</td>\n",
       "      <td>0.705882</td>\n",
       "      <td>0.063670</td>\n",
       "    </tr>\n",
       "    <tr>\n",
       "      <th>Samira</th>\n",
       "      <td>8</td>\n",
       "      <td>12</td>\n",
       "      <td>0.666667</td>\n",
       "      <td>0.044944</td>\n",
       "    </tr>\n",
       "    <tr>\n",
       "      <th>Kaisa</th>\n",
       "      <td>11</td>\n",
       "      <td>20</td>\n",
       "      <td>0.550000</td>\n",
       "      <td>0.074906</td>\n",
       "    </tr>\n",
       "    <tr>\n",
       "      <th>Jinx</th>\n",
       "      <td>9</td>\n",
       "      <td>18</td>\n",
       "      <td>0.500000</td>\n",
       "      <td>0.067416</td>\n",
       "    </tr>\n",
       "    <tr>\n",
       "      <th>Ezreal</th>\n",
       "      <td>8</td>\n",
       "      <td>11</td>\n",
       "      <td>0.727273</td>\n",
       "      <td>0.041199</td>\n",
       "    </tr>\n",
       "    <tr>\n",
       "      <th>Ashe</th>\n",
       "      <td>8</td>\n",
       "      <td>19</td>\n",
       "      <td>0.421053</td>\n",
       "      <td>0.071161</td>\n",
       "    </tr>\n",
       "    <tr>\n",
       "      <th>Tristana</th>\n",
       "      <td>16</td>\n",
       "      <td>27</td>\n",
       "      <td>0.592593</td>\n",
       "      <td>0.101124</td>\n",
       "    </tr>\n",
       "    <tr>\n",
       "      <th>MissFortune</th>\n",
       "      <td>17</td>\n",
       "      <td>35</td>\n",
       "      <td>0.485714</td>\n",
       "      <td>0.131086</td>\n",
       "    </tr>\n",
       "    <tr>\n",
       "      <th>Lucian</th>\n",
       "      <td>5</td>\n",
       "      <td>11</td>\n",
       "      <td>0.454545</td>\n",
       "      <td>0.041199</td>\n",
       "    </tr>\n",
       "  </tbody>\n",
       "</table>\n",
       "</div>"
      ],
      "text/plain": [
       "             wins  games_played  win_rate  appearance_rate\n",
       "Jhin           20            29  0.689655         0.108614\n",
       "Caitlyn        12            17  0.705882         0.063670\n",
       "Samira          8            12  0.666667         0.044944\n",
       "Kaisa          11            20  0.550000         0.074906\n",
       "Jinx            9            18  0.500000         0.067416\n",
       "Ezreal          8            11  0.727273         0.041199\n",
       "Ashe            8            19  0.421053         0.071161\n",
       "Tristana       16            27  0.592593         0.101124\n",
       "MissFortune    17            35  0.485714         0.131086\n",
       "Lucian          5            11  0.454545         0.041199"
      ]
     },
     "execution_count": 20,
     "metadata": {},
     "output_type": "execute_result"
    }
   ],
   "source": [
    "champs_to_drop = []\n",
    "for index, row in adc_wins.iterrows():\n",
    "    if adc_wins.at[index, 'appearance_rate'] < 0.04:\n",
    "        champs_to_drop.append(index)\n",
    "        \n",
    "new_adc_list = pd.DataFrame.copy(adc_wins)\n",
    "for champ in champs_to_drop:\n",
    "    new_adc_list = new_adc_list.drop(champ)\n",
    "    \n",
    "new_adc_list # let's see the \"most common\" ADCs in my games."
   ]
  },
  {
   "cell_type": "code",
   "execution_count": 21,
   "id": "developmental-night",
   "metadata": {
    "scrolled": true
   },
   "outputs": [
    {
     "data": {
      "text/plain": [
       "<AxesSubplot:title={'center':'Most Frequent Partner Win Rates'}, xlabel='Lane Partner', ylabel='Win Rate'>"
      ]
     },
     "execution_count": 21,
     "metadata": {},
     "output_type": "execute_result"
    },
    {
     "data": {
      "image/png": "[encoded data removed]",
      "text/plain": [
       "<Figure size 432x288 with 1 Axes>"
      ]
     },
     "metadata": {
      "needs_background": "light"
     },
     "output_type": "display_data"
    }
   ],
   "source": [
    "plot2 = new_adc_list.plot(kind='bar', y='win_rate', xlabel='Lane Partner', ylabel='Win Rate', title=\"Most Frequent Partner Win Rates\")\n",
    "plot2.axhline(y = 0.5, color='g')\n",
    "plot2 # Plotting based on Win Rate"
   ]
  },
  {
   "cell_type": "markdown",
   "id": "italian-format",
   "metadata": {},
   "source": [
    "The above graph shows my win rates with the current \"meta\" ADCs that I have to partner up with. As you can see, my win rate is the highest when I play with Ezreal, but that's only across 11 games! My most common partner is Miss Fortune, with a 13 percent appearance rate, but with a sub-50 percent win rate, which is typically considered bad. As such, I have placed a line at y=0.5 in order to clarify which win rates are considered good and which are considered subpar. The second highest partner in my match history is Jhin, and with an astounding win rate of nearly 69 percent, it's no surprise as to why he has one of the highest pick rates for the role, at 17.4% in Silver at the time of writing. These stats were found on [U.GG](https://u.gg/lol/champions/jhin/build?rank=silver)."
   ]
  },
  {
   "cell_type": "markdown",
   "id": "bulgarian-newport",
   "metadata": {},
   "source": [
    "Data Analysis 2: ...And Your Enemies Closer\n",
    "------------\n",
    "\n",
    "Matchups and synergies play a huge role in the League of Legends. Good players know all of the best and worst matchups for their character, and especially who to ban during the character selection phase. However, each player only gets one ban, so if your character has many counters, you might have to take the risk. It depends on who picks their character first. The next questions I want to answer are \"Who am I the best against?\" and \"Who am I worst against?\" When someone asks me these questions I have some instinctual answers based on my personal experiences, but let's see what the numbers have to say."
   ]
  },
  {
   "cell_type": "markdown",
   "id": "occupational-plenty",
   "metadata": {},
   "source": [
    "We can answer both of these questions at the same time. Using a similar methodology as above we can find the enemy supports, as they are always listed as the last row for their team, unless someone swapped in character selection. Like above, we can pretty easily find out in which games that took place. There is only one special case this time, instead of two like before. The algorithm is bascially the same."
   ]
  },
  {
   "cell_type": "code",
   "execution_count": 22,
   "id": "silver-conflict",
   "metadata": {},
   "outputs": [],
   "source": [
    "# Essentially the same code as above, but with less error cases (index 92) and different var names.\n",
    "supp_dict = {}\n",
    "i = 0\n",
    "while i < 267:\n",
    "    if i == 92: # Special case: Jhin and Swain swapped. I believe they were a duo.\n",
    "        id = df_list2[i].loc[df_list2[i]['summonerName'] == \"OG Zoidberg\"].index[0]+4\n",
    "        supp_row = df_list2[i].iloc[[id]]\n",
    "        supp_name = supp_row.iat[0,4]\n",
    "        if supp_name in supp_dict:\n",
    "            tup = supp_dict.get(supp_name)\n",
    "            if supp_row.iat[0, 84]:\n",
    "                supp_dict[supp_name] = (tup[0], tup[1] + 1)\n",
    "            else:\n",
    "                supp_dict[supp_name] = (tup[0]+1, tup[1]+1)\n",
    "            \n",
    "        else:\n",
    "            if supp_row.iat[0,84]:\n",
    "                supp_dict[supp_name] = (0,1)\n",
    "            else:\n",
    "                supp_dict[supp_name] = (1,1)\n",
    "    else:\n",
    "        \n",
    "        id = df_list2[i].loc[df_list2[i]['summonerName'] == \"OG Zoidberg\"].index[0]\n",
    "        supp_row = df_list2[i].iloc[[id]]\n",
    "        supp_name = \"\"\n",
    "        if id == 4:\n",
    "            supp_row = df_list2[i].iloc[[id+5]]\n",
    "            supp_name = supp_row.iat[0, 4]\n",
    "        \n",
    "        else:\n",
    "            supp_row = df_list2[i].iloc[[id-5]]\n",
    "            supp_name = supp_row.iat[0, 4]\n",
    "        \n",
    "        \n",
    "        if i < 200:\n",
    "            if supp_name in supp_dict:\n",
    "                tup = supp_dict.get(supp_name)\n",
    "                if supp_row.iat[0, 84]:\n",
    "                    supp_dict[supp_name] = (tup[0], tup[1] + 1)\n",
    "                else:\n",
    "                    supp_dict[supp_name] = (tup[0]+1, tup[1]+1)\n",
    "            \n",
    "            else:\n",
    "                if supp_row.iat[0,84]:\n",
    "                    supp_dict[supp_name] = (0,1)\n",
    "                else:\n",
    "                    supp_dict[supp_name] = (1,1)\n",
    "                \n",
    "        else:\n",
    "            if supp_name in supp_dict:\n",
    "                tup = supp_dict.get(supp_name)\n",
    "                if supp_row.iat[0, 80]:\n",
    "                    supp_dict[supp_name] = (tup[0], tup[1] + 1)\n",
    "                else:\n",
    "                    supp_dict[supp_name] = (tup[0]+1, tup[1]+1)\n",
    "            \n",
    "            else:\n",
    "                if supp_row.iat[0,80]:\n",
    "                    supp_dict[supp_name] = (0,1)\n",
    "                else:\n",
    "                    supp_dict[supp_name] = (1,1)\n",
    "                \n",
    "    i+=1"
   ]
  },
  {
   "cell_type": "markdown",
   "id": "chief-philadelphia",
   "metadata": {},
   "source": [
    "Nice, we have the data we need for the enemy supports now. First, I'd like to compare the amount of different ADCs I've played with vs the amount of supports I've played against."
   ]
  },
  {
   "cell_type": "code",
   "execution_count": 23,
   "id": "adult-casino",
   "metadata": {},
   "outputs": [
    {
     "data": {
      "text/plain": [
       "25"
      ]
     },
     "execution_count": 23,
     "metadata": {},
     "output_type": "execute_result"
    }
   ],
   "source": [
    "len(adc_dict)"
   ]
  },
  {
   "cell_type": "code",
   "execution_count": 24,
   "id": "duplicate-pharmacy",
   "metadata": {},
   "outputs": [
    {
     "data": {
      "text/plain": [
       "46"
      ]
     },
     "execution_count": 24,
     "metadata": {},
     "output_type": "execute_result"
    }
   ],
   "source": [
    "len(supp_dict)"
   ]
  },
  {
   "cell_type": "markdown",
   "id": "japanese-complaint",
   "metadata": {},
   "source": [
    "That's nearly double! There is an issue of diversity in the types of characters played in the bottom role, but less so for support. With that out of the way, let's see the overall win rates I have against these opponents. First let's calculate the win rates, then plot them as above."
   ]
  },
  {
   "cell_type": "code",
   "execution_count": 25,
   "id": "coated-improvement",
   "metadata": {},
   "outputs": [],
   "source": [
    "supp_wins = pd.DataFrame.from_dict(supp_dict, orient='index')\n",
    "supp_wins.columns = ['wins_against', 'games_played_against']"
   ]
  },
  {
   "cell_type": "code",
   "execution_count": 26,
   "id": "closed-calvin",
   "metadata": {},
   "outputs": [],
   "source": [
    "supp_wins['win_rate'] = 0.0\n",
    "for index, row in supp_wins.iterrows():\n",
    "    supp_wins.at[index, 'win_rate'] = float(supp_wins.at[index, 'wins_against'])/float(supp_wins.at[index, 'games_played_against'])"
   ]
  },
  {
   "cell_type": "code",
   "execution_count": 27,
   "id": "front-prediction",
   "metadata": {},
   "outputs": [
    {
     "data": {
      "text/plain": [
       "<matplotlib.lines.Line2D at 0x7f8e97102190>"
      ]
     },
     "execution_count": 27,
     "metadata": {},
     "output_type": "execute_result"
    },
    {
     "data": {
      "image/png": "[encoded data removed]",
      "text/plain": [
       "<Figure size 432x288 with 1 Axes>"
      ]
     },
     "metadata": {
      "needs_background": "light"
     },
     "output_type": "display_data"
    }
   ],
   "source": [
    "plot = supp_wins.plot(kind='bar', y='win_rate', xlabel='Lane Opponent', ylabel='Win Rate', title=\"Support Opponent Win Rates Across All Games\")\n",
    "plot.axhline(y = 0.5, color='g')"
   ]
  },
  {
   "cell_type": "markdown",
   "id": "swedish-pharmacy",
   "metadata": {},
   "source": [
    "This graph is too visually noisy to be useful. We can clean it up by using appearance rate again."
   ]
  },
  {
   "cell_type": "code",
   "execution_count": 28,
   "id": "revised-applicant",
   "metadata": {},
   "outputs": [],
   "source": [
    "supp_wins['appearance_rate'] = 0.0\n",
    "for index, row in supp_wins.iterrows():\n",
    "    supp_wins.at[index, 'appearance_rate'] = float(supp_wins.at[index, 'games_played_against'])/float(len(df_list2))"
   ]
  },
  {
   "cell_type": "markdown",
   "id": "regulation-seventh",
   "metadata": {},
   "source": [
    "For this, let's say anything below 2.5 percent can be dropped. I chose this number because one of the characters with the lowest appearance rates in the below DataFrame is Lulu, who is very much a \"meta\" characters, especially in higher ranks. I thought it would be best to use this percentage as to incorporate some of the more overall popular characters in this role."
   ]
  },
  {
   "cell_type": "code",
   "execution_count": 29,
   "id": "derived-disclosure",
   "metadata": {},
   "outputs": [],
   "source": [
    "champs_to_drop = []\n",
    "for index, row in supp_wins.iterrows():\n",
    "    if supp_wins.at[index, 'appearance_rate'] < 0.025:\n",
    "        champs_to_drop.append(index)\n",
    "        \n",
    "new_supp_list = pd.DataFrame.copy(supp_wins)\n",
    "for champ in champs_to_drop:\n",
    "    new_supp_list = new_supp_list.drop(champ)"
   ]
  },
  {
   "cell_type": "markdown",
   "id": "elect-north",
   "metadata": {},
   "source": [
    "Let's take a look at the new list and see who is in it."
   ]
  },
  {
   "cell_type": "code",
   "execution_count": 30,
   "id": "knowing-chapter",
   "metadata": {},
   "outputs": [
    {
     "data": {
      "text/html": [
       "<div>\n",
       "<style scoped>\n",
       "    .dataframe tbody tr th:only-of-type {\n",
       "        vertical-align: middle;\n",
       "    }\n",
       "\n",
       "    .dataframe tbody tr th {\n",
       "        vertical-align: top;\n",
       "    }\n",
       "\n",
       "    .dataframe thead th {\n",
       "        text-align: right;\n",
       "    }\n",
       "</style>\n",
       "<table border=\"1\" class=\"dataframe\">\n",
       "  <thead>\n",
       "    <tr style=\"text-align: right;\">\n",
       "      <th></th>\n",
       "      <th>wins_against</th>\n",
       "      <th>games_played_against</th>\n",
       "      <th>win_rate</th>\n",
       "      <th>appearance_rate</th>\n",
       "    </tr>\n",
       "  </thead>\n",
       "  <tbody>\n",
       "    <tr>\n",
       "      <th>Morgana</th>\n",
       "      <td>7</td>\n",
       "      <td>17</td>\n",
       "      <td>0.411765</td>\n",
       "      <td>0.063670</td>\n",
       "    </tr>\n",
       "    <tr>\n",
       "      <th>Thresh</th>\n",
       "      <td>8</td>\n",
       "      <td>13</td>\n",
       "      <td>0.615385</td>\n",
       "      <td>0.048689</td>\n",
       "    </tr>\n",
       "    <tr>\n",
       "      <th>Brand</th>\n",
       "      <td>2</td>\n",
       "      <td>9</td>\n",
       "      <td>0.222222</td>\n",
       "      <td>0.033708</td>\n",
       "    </tr>\n",
       "    <tr>\n",
       "      <th>Nami</th>\n",
       "      <td>4</td>\n",
       "      <td>11</td>\n",
       "      <td>0.363636</td>\n",
       "      <td>0.041199</td>\n",
       "    </tr>\n",
       "    <tr>\n",
       "      <th>Swain</th>\n",
       "      <td>4</td>\n",
       "      <td>7</td>\n",
       "      <td>0.571429</td>\n",
       "      <td>0.026217</td>\n",
       "    </tr>\n",
       "    <tr>\n",
       "      <th>Lux</th>\n",
       "      <td>14</td>\n",
       "      <td>25</td>\n",
       "      <td>0.560000</td>\n",
       "      <td>0.093633</td>\n",
       "    </tr>\n",
       "    <tr>\n",
       "      <th>Pyke</th>\n",
       "      <td>4</td>\n",
       "      <td>9</td>\n",
       "      <td>0.444444</td>\n",
       "      <td>0.033708</td>\n",
       "    </tr>\n",
       "    <tr>\n",
       "      <th>Seraphine</th>\n",
       "      <td>6</td>\n",
       "      <td>10</td>\n",
       "      <td>0.600000</td>\n",
       "      <td>0.037453</td>\n",
       "    </tr>\n",
       "    <tr>\n",
       "      <th>Lulu</th>\n",
       "      <td>1</td>\n",
       "      <td>7</td>\n",
       "      <td>0.142857</td>\n",
       "      <td>0.026217</td>\n",
       "    </tr>\n",
       "    <tr>\n",
       "      <th>Leona</th>\n",
       "      <td>9</td>\n",
       "      <td>15</td>\n",
       "      <td>0.600000</td>\n",
       "      <td>0.056180</td>\n",
       "    </tr>\n",
       "    <tr>\n",
       "      <th>Yuumi</th>\n",
       "      <td>4</td>\n",
       "      <td>8</td>\n",
       "      <td>0.500000</td>\n",
       "      <td>0.029963</td>\n",
       "    </tr>\n",
       "    <tr>\n",
       "      <th>Blitzcrank</th>\n",
       "      <td>13</td>\n",
       "      <td>20</td>\n",
       "      <td>0.650000</td>\n",
       "      <td>0.074906</td>\n",
       "    </tr>\n",
       "    <tr>\n",
       "      <th>Nautilus</th>\n",
       "      <td>4</td>\n",
       "      <td>9</td>\n",
       "      <td>0.444444</td>\n",
       "      <td>0.033708</td>\n",
       "    </tr>\n",
       "    <tr>\n",
       "      <th>Soraka</th>\n",
       "      <td>5</td>\n",
       "      <td>8</td>\n",
       "      <td>0.625000</td>\n",
       "      <td>0.029963</td>\n",
       "    </tr>\n",
       "    <tr>\n",
       "      <th>Senna</th>\n",
       "      <td>6</td>\n",
       "      <td>15</td>\n",
       "      <td>0.400000</td>\n",
       "      <td>0.056180</td>\n",
       "    </tr>\n",
       "    <tr>\n",
       "      <th>Sona</th>\n",
       "      <td>7</td>\n",
       "      <td>8</td>\n",
       "      <td>0.875000</td>\n",
       "      <td>0.029963</td>\n",
       "    </tr>\n",
       "  </tbody>\n",
       "</table>\n",
       "</div>"
      ],
      "text/plain": [
       "            wins_against  games_played_against  win_rate  appearance_rate\n",
       "Morgana                7                    17  0.411765         0.063670\n",
       "Thresh                 8                    13  0.615385         0.048689\n",
       "Brand                  2                     9  0.222222         0.033708\n",
       "Nami                   4                    11  0.363636         0.041199\n",
       "Swain                  4                     7  0.571429         0.026217\n",
       "Lux                   14                    25  0.560000         0.093633\n",
       "Pyke                   4                     9  0.444444         0.033708\n",
       "Seraphine              6                    10  0.600000         0.037453\n",
       "Lulu                   1                     7  0.142857         0.026217\n",
       "Leona                  9                    15  0.600000         0.056180\n",
       "Yuumi                  4                     8  0.500000         0.029963\n",
       "Blitzcrank            13                    20  0.650000         0.074906\n",
       "Nautilus               4                     9  0.444444         0.033708\n",
       "Soraka                 5                     8  0.625000         0.029963\n",
       "Senna                  6                    15  0.400000         0.056180\n",
       "Sona                   7                     8  0.875000         0.029963"
      ]
     },
     "execution_count": 30,
     "metadata": {},
     "output_type": "execute_result"
    }
   ],
   "source": [
    "new_supp_list"
   ]
  },
  {
   "cell_type": "markdown",
   "id": "compound-graduation",
   "metadata": {},
   "source": [
    "My most common matchups are against Lux, a high-damage mage, and Blitzcrank, a tanky support that relies on hooking enemies into him. It's interesting to note that across the six most played against supports, the win rates are closer to 50% than most of the lower entries, which intuitively makes sense. If you've only played against a certain character in 7 matches there's a higher chance it can get skewed because the sample size is so low."
   ]
  },
  {
   "cell_type": "code",
   "execution_count": 31,
   "id": "favorite-angola",
   "metadata": {},
   "outputs": [
    {
     "data": {
      "text/plain": [
       "<matplotlib.lines.Line2D at 0x7f8e96f333a0>"
      ]
     },
     "execution_count": 31,
     "metadata": {},
     "output_type": "execute_result"
    },
    {
     "data": {
      "image/png": "[encoded data removed]",
      "text/plain": [
       "<Figure size 432x288 with 1 Axes>"
      ]
     },
     "metadata": {
      "needs_background": "light"
     },
     "output_type": "display_data"
    }
   ],
   "source": [
    "plot3 = new_supp_list.plot(kind='bar', y='win_rate', xlabel='Lane Opponent', ylabel='Win Rate', title=\"Support Opponent Win Rates Across All Games for Popular Supports\")\n",
    "plot3.axhline(y = 0.5, color='g') # adding the line to denote 50% win rate"
   ]
  },
  {
   "cell_type": "markdown",
   "id": "adequate-flush",
   "metadata": {},
   "source": [
    "According to this graph, I'm best against Sona and worst against Lulu. Sona is considered to be very weak right now, so the fact that she typically loses games is not surprising. However, according to U.GG, [she has a win rate of 57.75 against Tahm Kench across 213 games](https://u.gg/lol/champions/sona/build?rank=silver&opp=tahmkench) in Silver, so perhaps I am the exception, not the rule. I consider Lulu, Senna, and Brand to be my worst matchups, and given my match history this is corraborated. Lulu is the lowest at 1 win across 7 games, followed by Brand at 2 wins across 9 games, and finally Senna at 6 wins across 15 games. As a result of playing against Senna, who is much more common compared to the former two, I started banning her in nearly all of my games. Some surprises here are my above-50% win rates against high-damage mages like Swain, Lux, and Seraphine, as well as my low win rates against Pyke and Nautilus, which are both matchups I typically consider even or in my favor, at least when I play Tahm Kench. With this information I can play safer in future games in matchups like these."
   ]
  },
  {
   "cell_type": "markdown",
   "id": "reasonable-quantity",
   "metadata": {},
   "source": [
    "Data Anaylsis 3: Participation is Important\n",
    "-------------------------\n",
    "\n",
    "Okay, well those are pretty simple representations of exploratory data analysis. Let's look at something that requires some hypothesis testing and machine learning. Let's take a look at something that many supports consider to be an important metric of performance: Kill Participation (KP). It's a simple metric, being only the sum of kills and assists, with the latter being more important due to the fact that supports typically want to give the damage-dealing characters the kills, due to gold rewards.\n",
    "\n",
    "### Getting the data Together\n",
    "\n",
    "We need to figure out how to get a list of win rates per KP number. We can use a similar methodoloy as above and repurpose the code once more. Instead of recording the wins based on the character's name, we can use the KP totals instead. Once again there are various ways to find this data, but I find [tuples](https://docs.python.org/3.3/library/stdtypes.html?highlight=tuple#tuple) to be epecially convienient structures for this purpose."
   ]
  },
  {
   "cell_type": "code",
   "execution_count": 32,
   "id": "delayed-johns",
   "metadata": {},
   "outputs": [],
   "source": [
    "kp_dict = {}\n",
    "# Looping through the games and recording my Kill Participation and if I won the game. Stored in a dict.\n",
    "for game in df_list2:\n",
    "    id = game.loc[game['summonerName'] == \"OG Zoidberg\"].index[0]\n",
    "    assists = game.at[id, 'assists']\n",
    "    kills = game.at[id, 'kills']\n",
    "    kp = kills+assists\n",
    "    if game.at[id, 'win'] == True:\n",
    "        if kp in kp_dict:\n",
    "            tup = kp_dict.get(kp)\n",
    "            kp_dict[kp] = (tup[0]+1, tup[1] + 1) # Using the tuple method as before\n",
    "        else:\n",
    "            kp_dict[kp] = (1,1)\n",
    "            \n",
    "    elif game.at[id, 'win'] == False:\n",
    "        if kp in kp_dict:\n",
    "            tup = kp_dict.get(kp)\n",
    "            kp_dict[kp] = (tup[0], tup[1] + 1)\n",
    "        else:\n",
    "            kp_dict[kp] = (0,1)\n",
    "            \n",
    "kp_df = pd.DataFrame.from_dict(kp_dict, orient='index')\n",
    "kp_df.columns = ['game_won', 'games_ocurred']\n",
    "kp_df = kp_df.sort_index()"
   ]
  },
  {
   "cell_type": "markdown",
   "id": "complex-flooring",
   "metadata": {},
   "source": [
    "Now we can calculate the win rate for each KP number."
   ]
  },
  {
   "cell_type": "code",
   "execution_count": 33,
   "id": "declared-stretch",
   "metadata": {},
   "outputs": [
    {
     "data": {
      "text/plain": [
       "<AxesSubplot:xlabel='kill_participation', ylabel='win_rate'>"
      ]
     },
     "execution_count": 33,
     "metadata": {},
     "output_type": "execute_result"
    },
    {
     "data": {
      "image/png": "[encoded data removed]",
      "text/plain": [
       "<Figure size 432x288 with 1 Axes>"
      ]
     },
     "metadata": {
      "needs_background": "light"
     },
     "output_type": "display_data"
    }
   ],
   "source": [
    "kp_df2 = kp_df.reset_index() # resetting the indices for ease in graphing\n",
    "kp_df2['win_rate'] = 0.0\n",
    "kp_df2.columns = ['kill_participation','game_won','games_ocurred','win_rate']\n",
    "# Calculating win rate for each KP number.\n",
    "for index, row in kp_df2.iterrows():\n",
    "    kp_df2.at[index, 'win_rate'] = float(kp_df2.at[index, 'game_won'])/float(kp_df2.at[index, 'games_ocurred'])\n",
    "    \n",
    "kp_df2.plot(kind='scatter',x='kill_participation',y='win_rate')"
   ]
  },
  {
   "cell_type": "markdown",
   "id": "irish-newport",
   "metadata": {},
   "source": [
    "Excellent, we have a plot of win rate against KP now. You may notice a few outliers, like the 33 KP with 0 percent win rate, or the 50% win rate for 0 KP. For the former, it was an unusually long game that was even for both teams. For the latter, I did some research into those games and found out those were both remakes. A Remake is when someone on either team disconnects, allowing the team with the disconnecting player to surrender as soon as the game starts, preventing a loss in rank. However, the games are still recorded in the database as win or loss. Both 0 KP games were remakes, one of which had a teammate of mine disconnect. Anyways, let's fit a line to this graph. Let's first try linear regression to see how well it fits. Let's use Numpy's polyfit feature alongside [matplotlib's pyplot](https://matplotlib.org/stable/api/_as_gen/matplotlib.pyplot.html)."
   ]
  },
  {
   "cell_type": "code",
   "execution_count": 34,
   "id": "valid-oklahoma",
   "metadata": {},
   "outputs": [
    {
     "data": {
      "text/plain": [
       "Text(0.5, 1.0, 'Kill Participation (kills + assists) Against Win Rate')"
      ]
     },
     "execution_count": 34,
     "metadata": {},
     "output_type": "execute_result"
    },
    {
     "data": {
      "image/png": "[encoded data removed]",
      "text/plain": [
       "<Figure size 432x288 with 1 Axes>"
      ]
     },
     "metadata": {
      "needs_background": "light"
     },
     "output_type": "display_data"
    }
   ],
   "source": [
    "kp_df2.plot(kind='scatter',x='kill_participation',y='win_rate')\n",
    "X=kp_df2['kill_participation']\n",
    "y=kp_df2['win_rate']\n",
    "m, b = np.polyfit(X, y, 1) # Coefficients 0.01916738 and 0.22667317\n",
    "\n",
    "mpl.plot(X, m*X + b, color='g') # plots the line, making it green\n",
    "# Let's make the graph a bit prettier.\n",
    "mpl.xlabel(\"Kill Participation\")\n",
    "mpl.ylabel(\"Win Rate\")\n",
    "mpl.title(\"Kill Participation (kills + assists) Against Win Rate\")"
   ]
  },
  {
   "cell_type": "markdown",
   "id": "disturbed-liver",
   "metadata": {},
   "source": [
    "This fit isn't too great. Let's take a look at the residuals though. "
   ]
  },
  {
   "cell_type": "code",
   "execution_count": 35,
   "id": "removable-graduate",
   "metadata": {},
   "outputs": [],
   "source": [
    "def resid_calc(kp, winrate):\n",
    "    ax = 0.01916738*kp\n",
    "    y = (ax) + 0.22667317\n",
    "    return winrate - y"
   ]
  },
  {
   "cell_type": "code",
   "execution_count": 36,
   "id": "attached-patrick",
   "metadata": {},
   "outputs": [
    {
     "data": {
      "text/plain": [
       "Text(0.5, 1.0, 'Kill Participation Against Residual Win Rate')"
      ]
     },
     "execution_count": 36,
     "metadata": {},
     "output_type": "execute_result"
    },
    {
     "data": {
      "image/png": "[encoded data removed]",
      "text/plain": [
       "<Figure size 432x288 with 1 Axes>"
      ]
     },
     "metadata": {
      "needs_background": "light"
     },
     "output_type": "display_data"
    }
   ],
   "source": [
    "resids_list = []\n",
    "for index, row in kp_df2.iterrows():\n",
    "    resids_list.append(resid_calc(kp_df2.at[index, 'kill_participation'], kp_df2.at[index, 'win_rate']))\n",
    "    \n",
    "mpl.scatter(kp_df2['kill_participation'],resids_list)\n",
    "mpl.axhline(0, color='r')\n",
    "mpl.xlabel(\"Kill Participation\")\n",
    "mpl.ylabel(\"Residual Win Rate\")\n",
    "mpl.title(\"Kill Participation Against Residual Win Rate\")"
   ]
  },
  {
   "cell_type": "markdown",
   "id": "damaged-quick",
   "metadata": {},
   "source": [
    "We can see that there is a slight pattern to the residuals. There are very few values under the residual line after around 15 KP. This might suggest that there might be a better model to fit this data. However, for our purposes it does not matter much, since we can generally see that higher win rate correlates with more kill participation. But why is that? There are a few possible explanations.\n",
    "\n",
    "### How does one even get KP that high?\n",
    "\n",
    "In order for a player to hit very high KP numbers, the game typically has to last a long amount of time. My longest match ever was around 55 minutes long, for instance. According to LeagueofGraphs, [games in my rank last about 30 minutes](https://www.leagueofgraphs.com/rankings/game-durations). Games that run over that benchmark tend to be very even, as both teams have specific win conditions, and neither team is so far ahead as to fall apart and lose the game quickly. As a result, the games can be bloodbaths, with a huge number of kills on each side. These games can go either way, and with a low sample size of these games from my own data set, it can be hard to get a good idea of what's going on. Anyways, let's go back to the linear regression, and discuss what the numbers actually mean.\n",
    "\n",
    "### Understanding the Model\n",
    "\n",
    "As written in the comment in the code block above, the linear function given by the regression is roughly y = 0.226 + 0.019x. This means that for an increase of 1 KP, my win rate will rise by roughly 2 percent. It starts at 22.6 percent, because of the two games which averaged at a 50% win rate for 0 KP. These games were remakes, which I explained above. We can't apply this model to anything outside the dataset because it would yield us values above 1.0, which is simply impossible. You cannot win more games than the amount of games you play."
   ]
  },
  {
   "cell_type": "markdown",
   "id": "gross-hostel",
   "metadata": {},
   "source": [
    "Data Anaylsis 4: Eyes Everywhere\n",
    "-------------------------\n",
    "\n",
    "\n",
    "\n",
    "Another extremely important aspect of Support I want to touch on is Vision Score (also referred to simply as Vision). Vision is an extremely underrated part of the game in lower ranks (such my rank, Silver), as it allows you to know where the enemy is if they are not in lane (if an enemy is in lane, you don't need to worry about buying or using vision wards on them). There are several types of vision wards that can help you locate missing enemies, as well as secure vision on objectives like the Baron or the dragons, or even to allow a teammate using the Teleport spell to assist you by Teleporting to the vision ward. Thankfully, Riot uses a metric called Vision Score to display how well a player gave more vision to their team. The calculation for Vision Score is a bit messy (as seen [here](https://leagueoflegends.fandom.com/wiki/Vision_score)), so it's nice to have a neat little metric to use in our analysis. Before we get into said analysis though, I'll explain a little bit more about Vision Score to give you a better idea of what it means.\n",
    "\n",
    "### Vision Score in a nutshell\n",
    "Every player has access to vision wards of various types, but mostly players just use the standard Stealth ward, which supplies vision for 90 seconds while being hidden from the enemy team. You place wards down around the map to reveal areas that would otherwise be obscured. Your score increases in varying degrees based on ward redundancy, placement, uselessness, and more based on how well it does its job. There are also optional \"Pink\" wards that cost extra and have an indefinite lifespan, provided that an enemy doesn't destroy it. Essentially, players with a higher vision score tend to reveal more of the map for their teammates and deny the enemy from getting Vision of their own. With that out of the way, let's see if there is a relationship between an increase in Vision Score and an increase in win rate."
   ]
  },
  {
   "cell_type": "markdown",
   "id": "violent-quantity",
   "metadata": {},
   "source": [
    "Since Vision Score varies widely, let's compare my Vision Score against the enemy Support across all games."
   ]
  },
  {
   "cell_type": "code",
   "execution_count": 37,
   "id": "victorian-raising",
   "metadata": {},
   "outputs": [],
   "source": [
    "VS_list = [] # List of tuples, containing Vision Score and a boolean denoting a win (true) or loss (false)\n",
    "# First let's loop through the matches and record my Vision Score. We're reusing code above but repurposing it.\n",
    "i = 0\n",
    "while i < 267:\n",
    "    if i == 92: # Special case: Jhin and Swain swapped.\n",
    "        id = df_list2[i].loc[df_list2[i]['summonerName'] == \"OG Zoidberg\"].index[0]+4\n",
    "        supp_row = df_list2[i].iloc[[id]]\n",
    "        supp_VS = supp_row.at[id,'visionScore']\n",
    "        my_VS = df_list2[i].iloc[[id-4]].at[id-4, 'visionScore']\n",
    "        \n",
    "        VS_list.append(((my_VS-supp_VS), df_list2[i].at[id-4, 'win']))\n",
    "        \n",
    "    else:   \n",
    "        id = df_list2[i].loc[df_list2[i]['summonerName'] == \"OG Zoidberg\"].index[0]\n",
    "        supp_row = df_list2[i].iloc[[id]] # Retrieving the enemy support's row\n",
    "        supp_VS = \"\"\n",
    "        if id == 4:\n",
    "            supp_row = df_list2[i].iloc[[id+5]]\n",
    "            supp_VS = supp_row.at[id+5,'visionScore'] # Collecting their vision score\n",
    "            my_VS = df_list2[i].at[id, 'visionScore'] # Collecting my vision score\n",
    "            VS_list.append(((my_VS-supp_VS), df_list2[i].at[id, 'win']))\n",
    "        \n",
    "        else:\n",
    "            supp_row = df_list2[i].iloc[[id-5]]\n",
    "            supp_VS = supp_row.at[id-5, 'visionScore'] # Same as above, accounting for different case\n",
    "            my_VS = df_list2[i].at[id, 'visionScore']\n",
    "            VS_list.append(((my_VS-supp_VS), df_list2[i].at[id, 'win']))\n",
    "        \n",
    "    i+=1"
   ]
  },
  {
   "cell_type": "code",
   "execution_count": 38,
   "id": "collectible-giant",
   "metadata": {},
   "outputs": [],
   "source": [
    "win_list = []\n",
    "loss_list = []\n",
    "for point in VS_list:\n",
    "    if point[1] == True: # Tuple access\n",
    "        win_list.append(point[0])\n",
    "    else:\n",
    "        loss_list.append(point[0])\n",
    "        \n",
    "total_list = [win_list, loss_list]  # Making two lists for wins and losses. Will be useful for Violin Plots"
   ]
  },
  {
   "cell_type": "markdown",
   "id": "indonesian-indianapolis",
   "metadata": {},
   "source": [
    "Let's make a [Violin Plot](https://en.wikipedia.org/wiki/Violin_plot). They allow us to see the distribution of values across a single category, so there will be two distributions in our graph: One for wins, and one for losses. Pyplot has a Violin Plot implementation, but if you want to use a library like [Seaborn](https://seaborn.pydata.org/), then by all means."
   ]
  },
  {
   "cell_type": "code",
   "execution_count": 39,
   "id": "peripheral-lexington",
   "metadata": {
    "scrolled": true
   },
   "outputs": [
    {
     "data": {
      "image/png": "[encoded data removed]",
      "text/plain": [
       "<Figure size 432x288 with 1 Axes>"
      ]
     },
     "metadata": {
      "needs_background": "light"
     },
     "output_type": "display_data"
    }
   ],
   "source": [
    "ids = [0, 5] # Arbitrary numbers, the plots need to be properly spaced\n",
    "mpl.violinplot(total_list,ids,widths=4,showmeans=True)\n",
    "mpl.axhline(y=0, color='g')\n",
    "mpl.xlabel(\"Left: Wins, Right: Losses\")\n",
    "mpl.ylabel(\"Vision Score Difference\")\n",
    "mpl.title(\"Difference in Vision Score Between Myself and Enemy Support\")\n",
    "mpl.show()"
   ]
  },
  {
   "cell_type": "markdown",
   "id": "presidential-thompson",
   "metadata": {},
   "source": [
    "### Understanding the Model\n",
    "\n",
    "The left Violin represents the games in which I won, and the right those I lost. You can see here that my average Vision Score was above zero (which is to say, I had more impact on the game's vision overall), and in games I lost, my Vision Score is below zero. They are both quite close to zero, but the winning plot on the left shows that the difference when I win is higher than when I lose, possibly suggesting I win more games if I have a bigger impact on my team's vision. In addition, the spread of the losses is much wider than the wins, meaning that more of my wins are close to or above 0, whereas in the losses they are spread out more normally."
   ]
  },
  {
   "cell_type": "markdown",
   "id": "silver-powell",
   "metadata": {},
   "source": [
    "In Conclusion\n",
    "============================\n",
    "\n",
    "\n",
    "Thank you for reading this tutorial, and I hope you understand more about both League of Legends, and the Data Science process as well. Thankfully, due to the wealth of statistics at my disposal, I was able to show a variety of different areas to focus on. In working on this project I learned a lot about how I play the game, my strong suits, and more. Hopefully I can take some of this information to mind going forward, and bump those win numbers up. Based purely on my win rate with Tahm Kench, I am already overperforming compared to other players in the same rank, but this project is still helpful going forward. I think this analysis could include more data, like including every game (non-ranked included) or every champion, but I believe my support statistics gave a good enough idea about the Data Science Pipeline. Having more games played would have been helpful as well. My main takeaways are that I generally win games in which I have a better Vision Score than my opponent, I win the majority of my games when alongside characters like Jhin and Ezreal, and that I need to watch out any time I am matched against characters like Brand or Lulu. Lastly, I know that I typically win more games in which I have a high KP, but after a certain point it seems to be less reliable. This is where more data would help confirm or deny that, since I only have my insights and previous experiences to go off of. \n",
    "\n",
    "I would like to thank [Riot Games](https://www.riotgames.com/en) for allowing users such as myself to access their data, as well as the staff of CMSC320 for adequately preparing me to undertake such a project. I hope you learned plenty, and take care!"
   ]
  }
 ],
 "metadata": {
  "kernelspec": {
   "display_name": "Python 3",
   "language": "python",
   "name": "python3"
  },
  "language_info": {
   "codemirror_mode": {
    "name": "ipython",
    "version": 3
   },
   "file_extension": ".py",
   "mimetype": "text/x-python",
   "name": "python",
   "nbconvert_exporter": "python",
   "pygments_lexer": "ipython3",
   "version": "3.8.6"
  }
 },
 "nbformat": 4,
 "nbformat_minor": 5
}
